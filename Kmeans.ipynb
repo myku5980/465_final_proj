{
 "cells": [
  {
   "cell_type": "code",
   "execution_count": 8,
   "metadata": {},
   "outputs": [],
   "source": [
    "#Gathering the required libraries and dataset\n",
    "\n",
    "from sklearn import datasets\n",
    "import matplotlib.pyplot as plt\n",
    "from sklearn.cluster import KMeans\n",
    "\n",
    "iris = datasets.load_iris()\n",
    "data = iris.data\n",
    "print(data[:30])"
   ]
  },
  {
   "cell_type": "code",
   "execution_count": 11,
   "metadata": {},
   "outputs": [],
   "source": [
    "n = 10\n",
    "\n",
    "def SSQ(data, clusters):\n",
    "    total = 0\n",
    "    for x in data:\n",
    "        temp = []\n",
    "        for c in clusters:\n",
    "            dist = 0\n",
    "            for ind in range(len(x)):\n",
    "                dist += abs(x[ind] - c[ind]) ** 2\n",
    "            temp.append(dist)\n",
    "        total += min(temp)\n",
    "    return total\n",
    "\n",
    "\n",
    "SSQList = []\n",
    "numbers = [1, 2, 3, 4, 5, 6, 7, 8, 9, 10]\n",
    "\n",
    "for k in range(1, n + 1):\n",
    "    kmeans = KMeans(n_clusters = k).fit(data)\n",
    "    clusters = kmeans.cluster_centers_\n",
    "    SSQList.append(SSQ(data, clusters))\n",
    "\n",
    "plt.plot(numbers, SSQList)\n",
    "plt.title('The Elbow Method')\n",
    "plt.xlabel('Number of clusters')\n",
    "plt.ylabel('SSQ')\n",
    "plt.show()\n"
   ]
  },
  {
   "cell_type": "code",
   "execution_count": null,
   "metadata": {},
   "outputs": [],
   "source": []
  }
 ],
 "metadata": {
  "kernelspec": {
   "display_name": "Python 3",
   "language": "python",
   "name": "python3"
  },
  "language_info": {
   "codemirror_mode": {
    "name": "ipython",
    "version": 3
   },
   "file_extension": ".py",
   "mimetype": "text/x-python",
   "name": "python",
   "nbconvert_exporter": "python",
   "pygments_lexer": "ipython3",
   "version": "3.7.6"
  }
 },
 "nbformat": 4,
 "nbformat_minor": 4
}
